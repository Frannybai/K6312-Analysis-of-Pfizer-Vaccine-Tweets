{
 "cells": [
  {
   "cell_type": "code",
   "execution_count": 1,
   "metadata": {},
   "outputs": [],
   "source": [
    "from sklearn import datasets\n",
    "from sklearn.metrics import accuracy_score\n",
    "from sklearn.model_selection import train_test_split\n",
    "from sklearn.tree import DecisionTreeClassifier\n",
    "from sklearn.datasets import load_boston\n",
    "from sklearn.tree import DecisionTreeRegressor\n",
    "\n",
    "from sklearn import tree\n",
    "\n",
    "from sklearn.feature_extraction.text import CountVectorizer\n",
    "from sklearn.preprocessing import LabelEncoder\n",
    "from sklearn.model_selection import train_test_split\n",
    "from sklearn.feature_extraction import DictVectorizer\n"
   ]
  },
  {
   "cell_type": "code",
   "execution_count": 3,
   "metadata": {},
   "outputs": [
    {
     "data": {
      "text/html": [
       "<div>\n",
       "<style scoped>\n",
       "    .dataframe tbody tr th:only-of-type {\n",
       "        vertical-align: middle;\n",
       "    }\n",
       "\n",
       "    .dataframe tbody tr th {\n",
       "        vertical-align: top;\n",
       "    }\n",
       "\n",
       "    .dataframe thead th {\n",
       "        text-align: right;\n",
       "    }\n",
       "</style>\n",
       "<table border=\"1\" class=\"dataframe\">\n",
       "  <thead>\n",
       "    <tr style=\"text-align: right;\">\n",
       "      <th></th>\n",
       "      <th>tweet</th>\n",
       "      <th>polarity</th>\n",
       "      <th>subjectivity</th>\n",
       "      <th>vader_neg</th>\n",
       "      <th>vader_neu</th>\n",
       "      <th>vader_pos</th>\n",
       "      <th>vader_compound</th>\n",
       "    </tr>\n",
       "  </thead>\n",
       "  <tbody>\n",
       "  </tbody>\n",
       "</table>\n",
       "</div>"
      ],
      "text/plain": [
       "Empty DataFrame\n",
       "Columns: [tweet, polarity, subjectivity, vader_neg, vader_neu, vader_pos, vader_compound]\n",
       "Index: []"
      ]
     },
     "execution_count": 3,
     "metadata": {},
     "output_type": "execute_result"
    }
   ],
   "source": [
    "import pandas as pd\n",
    "df = pd.read_excel(\"data.xls\")\n",
    "li = df[df.isnull().T.any()].index\n",
    "for i in li:\n",
    "    df.drop(index=i,axis = 1,inplace = True)\n",
    "df[df.isnull().T.any()]"
   ]
  },
  {
   "cell_type": "code",
   "execution_count": 4,
   "metadata": {},
   "outputs": [
    {
     "data": {
      "text/plain": [
       " 1    3461\n",
       " 0    3369\n",
       "-1     827\n",
       "Name: polarity_new, dtype: int64"
      ]
     },
     "execution_count": 4,
     "metadata": {},
     "output_type": "execute_result"
    }
   ],
   "source": [
    "df['polarity_new']=5\n",
    "df.loc[df['polarity']==0,['polarity_new']]=0\n",
    "df.loc[df['polarity']>0,['polarity_new']]=1\n",
    "df.loc[df['polarity']<0,['polarity_new']]=-1\n",
    "df['polarity_new'].value_counts()"
   ]
  },
  {
   "cell_type": "code",
   "execution_count": 5,
   "metadata": {},
   "outputs": [],
   "source": [
    "X = df['tweet']\n",
    "Y = df['polarity_new']"
   ]
  },
  {
   "cell_type": "code",
   "execution_count": 6,
   "metadata": {},
   "outputs": [],
   "source": [
    "import re\n",
    "import string\n",
    "from nltk.corpus import stopwords\n",
    "from nltk.tokenize import word_tokenize\n",
    "def custom_preprocessor(text):\n",
    "    '''\n",
    "    Make text lowercase, remove text in square brackets,remove links,remove special characters\n",
    "    and remove words containing numbers.\n",
    "    '''\n",
    "    text = text.lower()\n",
    "    text = re.sub('@[^\\s]+','',text)\n",
    "    text = re.sub(r'\\B#\\S+','',text)\n",
    "    text = re.sub('\\[.*?\\]', '', text)\n",
    "    text = re.sub(\"\\\\W\",\" \",text) # remove special chars\n",
    "    text = re.sub('https?://\\S+|www\\.\\S+', '', text)\n",
    "    text = re.sub('<.*?>+', '', text)\n",
    "    text = re.sub('[%s]' % re.escape(string.punctuation), '', text)\n",
    "    text = re.sub('\\n', '', text)\n",
    "    text = re.sub('\\w*\\d\\w*', '', text)\n",
    "    words = word_tokenize(text)\n",
    "    words = [i for i in words if i not in stopwords.words()]\n",
    "    text = ' '.join(words)\n",
    "    \n",
    "    return text"
   ]
  },
  {
   "cell_type": "code",
   "execution_count": 7,
   "metadata": {},
   "outputs": [
    {
     "data": {
      "text/plain": [
       "(6125,)"
      ]
     },
     "execution_count": 7,
     "metadata": {},
     "output_type": "execute_result"
    }
   ],
   "source": [
    "X_train, X_test, y_train, y_test = train_test_split(X, Y, test_size=0.2, random_state=123)\n",
    "X_train.shape"
   ]
  },
  {
   "cell_type": "code",
   "execution_count": 8,
   "metadata": {},
   "outputs": [
    {
     "data": {
      "text/plain": [
       "<1532x1500 sparse matrix of type '<class 'numpy.int64'>'\n",
       "\twith 22368 stored elements in Compressed Sparse Row format>"
      ]
     },
     "execution_count": 8,
     "metadata": {},
     "output_type": "execute_result"
    }
   ],
   "source": [
    "vect = CountVectorizer(ngram_range=(1,2),max_features=1500)\n",
    "X_train_dtm = vect.fit_transform(X_train)\n",
    "X_test_dtm = vect.transform(X_test)\n",
    "X_test_dtm"
   ]
  },
  {
   "cell_type": "code",
   "execution_count": 9,
   "metadata": {},
   "outputs": [
    {
     "data": {
      "text/plain": [
       "DecisionTreeClassifier(criterion='entropy', max_depth=10)"
      ]
     },
     "execution_count": 9,
     "metadata": {},
     "output_type": "execute_result"
    }
   ],
   "source": [
    "clf = DecisionTreeClassifier(criterion = 'entropy', max_depth = 10)\n",
    "clf.fit(X_train_dtm,y_train)"
   ]
  },
  {
   "cell_type": "code",
   "execution_count": 10,
   "metadata": {},
   "outputs": [
    {
     "name": "stdout",
     "output_type": "stream",
     "text": [
      "Accuracy:0.6847258485639687\n",
      "Precision:0.6847258485639687\n",
      "Recall:0.6847258485639687\n",
      "              precision    recall  f1-score   support\n",
      "\n",
      "          -1       0.49      0.11      0.18       161\n",
      "           0       0.60      1.00      0.75       673\n",
      "           1       0.97      0.51      0.67       698\n",
      "\n",
      "    accuracy                           0.68      1532\n",
      "   macro avg       0.68      0.54      0.53      1532\n",
      "weighted avg       0.75      0.68      0.65      1532\n",
      "\n"
     ]
    }
   ],
   "source": [
    "from sklearn.metrics import classification_report\n",
    "y_test_pred = clf.predict(X_test_dtm)\n",
    "from sklearn.metrics import accuracy_score, precision_score, recall_score\n",
    "print(\"Accuracy:{}\".format(accuracy_score(y_test, y_test_pred)))\n",
    "print(\"Precision:{}\".format(precision_score(y_test, y_test_pred,average='micro')))\n",
    "print(\"Recall:{}\".format(recall_score(y_test, y_test_pred,average='micro')))\n",
    "print(classification_report(y_test,y_test_pred))"
   ]
  },
  {
   "cell_type": "code",
   "execution_count": 11,
   "metadata": {},
   "outputs": [],
   "source": [
    "from sklearn.ensemble import RandomForestClassifier"
   ]
  },
  {
   "cell_type": "code",
   "execution_count": 12,
   "metadata": {},
   "outputs": [],
   "source": [
    "train_scores = []\n",
    "test_scores = []\n",
    "\n",
    "rf = RandomForestClassifier(random_state=0)\n",
    "estimator_range = range(1, 100, 5)\n",
    "for n_estimators in estimator_range:\n",
    "    rf.n_estimators = n_estimators\n",
    "    rf.fit(X_train_dtm, y_train)\n",
    "    train_scores.append(rf.score(X_train_dtm, y_train))\n",
    "    test_scores.append(rf.score(X_test_dtm, y_test))"
   ]
  },
  {
   "cell_type": "code",
   "execution_count": 13,
   "metadata": {},
   "outputs": [
    {
     "data": {
      "text/plain": [
       "<matplotlib.legend.Legend at 0x7facc32aab20>"
      ]
     },
     "execution_count": 13,
     "metadata": {},
     "output_type": "execute_result"
    },
    {
     "data": {
      "image/png": "[encoded data removed]",
      "text/plain": [
       "<Figure size 432x288 with 1 Axes>"
      ]
     },
     "metadata": {
      "needs_background": "light"
     },
     "output_type": "display_data"
    }
   ],
   "source": [
    "import matplotlib.pyplot as plt\n",
    "plt.plot(estimator_range, test_scores, label=\"test scores\")\n",
    "plt.plot(estimator_range, train_scores, label=\"train scores\")\n",
    "plt.ylabel(\"accuracy\")\n",
    "plt.xlabel(\"n_estimators\")\n",
    "plt.legend()"
   ]
  },
  {
   "cell_type": "code",
   "execution_count": 14,
   "metadata": {},
   "outputs": [
    {
     "data": {
      "text/plain": [
       "0.8459530026109661"
      ]
     },
     "execution_count": 14,
     "metadata": {},
     "output_type": "execute_result"
    }
   ],
   "source": [
    "rf = RandomForestClassifier(random_state=0, n_estimators=100)\n",
    "rf.fit(X_train_dtm, y_train)\n",
    "rf.score(X_test_dtm, y_test)"
   ]
  },
  {
   "cell_type": "code",
   "execution_count": 15,
   "metadata": {},
   "outputs": [
    {
     "name": "stdout",
     "output_type": "stream",
     "text": [
      "Accuracy:0.8459530026109661\n",
      "Precision:0.8459530026109661\n",
      "Recall:0.8459530026109661\n",
      "              precision    recall  f1-score   support\n",
      "\n",
      "          -1       0.85      0.40      0.54       161\n",
      "           0       0.79      0.96      0.87       673\n",
      "           1       0.91      0.84      0.87       698\n",
      "\n",
      "    accuracy                           0.85      1532\n",
      "   macro avg       0.85      0.73      0.76      1532\n",
      "weighted avg       0.85      0.85      0.84      1532\n",
      "\n"
     ]
    }
   ],
   "source": [
    "from sklearn.metrics import classification_report\n",
    "y_test_pred = rf.predict(X_test_dtm)\n",
    "from sklearn.metrics import accuracy_score, precision_score, recall_score\n",
    "print(\"Accuracy:{}\".format(accuracy_score(y_test, y_test_pred)))\n",
    "print(\"Precision:{}\".format(precision_score(y_test, y_test_pred,average='micro')))\n",
    "print(\"Recall:{}\".format(recall_score(y_test, y_test_pred,average='micro')))\n",
    "print(classification_report(y_test,y_test_pred))"
   ]
  },
  {
   "cell_type": "code",
   "execution_count": 16,
   "metadata": {},
   "outputs": [
    {
     "data": {
      "text/plain": [
       "2       Facts are immutable, Senator, even when you're...\n",
       "3       Explain to me again why we need a vaccine @Bor...\n",
       "4       Does anyone have any useful advice/guidance fo...\n",
       "5       it is a bit sad to claim the fame for success ...\n",
       "6       There have not been many bright days in 2020 b...\n",
       "                              ...                        \n",
       "3101    #PublicHealth #COVID19 #Modernavaccine #Modern...\n",
       "3102    @crashoverrideee #COVID19 Vaccine Update for #...\n",
       "3103    Dr Fun's I Feel Good - My effort at a PSA, ple...\n",
       "3104    @Writer_DG I got dose #2 Friday. Have to admit...\n",
       "3105    Feeling very privileged to have had my first c...\n",
       "Name: text, Length: 247, dtype: object"
      ]
     },
     "execution_count": 16,
     "metadata": {},
     "output_type": "execute_result"
    }
   ],
   "source": [
    "import numpy as np\n",
    "df1 = pd.read_csv('Finished_vaccination_tweets_手动标记.csv',encoding='ISO-8859-1')\n",
    "df1 = df1[(df1['code-attitude'] == '0') | (df1['code-attitude'] == '1') | (df1['code-attitude'] == '-1')]\n",
    "df1['text']"
   ]
  },
  {
   "cell_type": "code",
   "execution_count": 17,
   "metadata": {},
   "outputs": [
    {
     "name": "stdout",
     "output_type": "stream",
     "text": [
      "Accuracy:0.5344129554655871\n",
      "              precision    recall  f1-score   support\n",
      "\n",
      "          -1       0.52      0.26      0.34        58\n",
      "           0       0.56      0.60      0.58       113\n",
      "           1       0.51      0.64      0.57        76\n",
      "\n",
      "    accuracy                           0.53       247\n",
      "   macro avg       0.53      0.50      0.50       247\n",
      "weighted avg       0.53      0.53      0.52       247\n",
      "\n"
     ]
    }
   ],
   "source": [
    "df1['text'] = pd.DataFrame(df1['text'].astype(str))\n",
    "df1['text_clean']=df1['text'].apply(custom_preprocessor)\n",
    "t = vect.transform(df1['text'])\n",
    "y_test_pred = rf.predict(t)\n",
    "df1['code-attitude'] = pd.DataFrame(df1['code-attitude'].astype(int))\n",
    "from sklearn.metrics import accuracy_score, precision_score, recall_score\n",
    "print(\"Accuracy:{}\".format(accuracy_score(df1['code-attitude'], y_test_pred)))\n",
    "print(classification_report(df1['code-attitude'],y_test_pred))"
   ]
  },
  {
   "cell_type": "code",
   "execution_count": null,
   "metadata": {},
   "outputs": [],
   "source": []
  }
 ],
 "metadata": {
  "kernelspec": {
   "display_name": "Python 3",
   "language": "python",
   "name": "python3"
  },
  "language_info": {
   "codemirror_mode": {
    "name": "ipython",
    "version": 3
   },
   "file_extension": ".py",
   "mimetype": "text/x-python",
   "name": "python",
   "nbconvert_exporter": "python",
   "pygments_lexer": "ipython3",
   "version": "3.8.3"
  }
 },
 "nbformat": 4,
 "nbformat_minor": 4
}
