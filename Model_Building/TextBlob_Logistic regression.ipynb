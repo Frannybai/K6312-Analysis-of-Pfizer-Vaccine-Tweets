{
 "cells": [
  {
   "cell_type": "code",
   "execution_count": 1,
   "metadata": {},
   "outputs": [],
   "source": [
    "from sklearn.feature_extraction.text import CountVectorizer\n",
    "from sklearn.model_selection import train_test_split"
   ]
  },
  {
   "cell_type": "code",
   "execution_count": 2,
   "metadata": {},
   "outputs": [
    {
     "data": {
      "text/html": [
       "<div>\n",
       "<style scoped>\n",
       "    .dataframe tbody tr th:only-of-type {\n",
       "        vertical-align: middle;\n",
       "    }\n",
       "\n",
       "    .dataframe tbody tr th {\n",
       "        vertical-align: top;\n",
       "    }\n",
       "\n",
       "    .dataframe thead th {\n",
       "        text-align: right;\n",
       "    }\n",
       "</style>\n",
       "<table border=\"1\" class=\"dataframe\">\n",
       "  <thead>\n",
       "    <tr style=\"text-align: right;\">\n",
       "      <th></th>\n",
       "      <th>tweet</th>\n",
       "      <th>polarity</th>\n",
       "      <th>subjectivity</th>\n",
       "      <th>vader_neg</th>\n",
       "      <th>vader_neu</th>\n",
       "      <th>vader_pos</th>\n",
       "      <th>vader_compound</th>\n",
       "    </tr>\n",
       "  </thead>\n",
       "  <tbody>\n",
       "    <tr>\n",
       "      <th>0</th>\n",
       "      <td>Same folks said daikon paste could treat a cyt...</td>\n",
       "      <td>0.000000</td>\n",
       "      <td>0.125000</td>\n",
       "      <td>0.000</td>\n",
       "      <td>0.787</td>\n",
       "      <td>0.213</td>\n",
       "      <td>0.4019</td>\n",
       "    </tr>\n",
       "    <tr>\n",
       "      <th>1</th>\n",
       "      <td>While the world has been on the wrong side of ...</td>\n",
       "      <td>-0.500000</td>\n",
       "      <td>0.900000</td>\n",
       "      <td>0.125</td>\n",
       "      <td>0.766</td>\n",
       "      <td>0.109</td>\n",
       "      <td>-0.1027</td>\n",
       "    </tr>\n",
       "    <tr>\n",
       "      <th>2</th>\n",
       "      <td>coronavirus SputnikV AstraZeneca PfizerBioNTec...</td>\n",
       "      <td>0.000000</td>\n",
       "      <td>0.033333</td>\n",
       "      <td>0.000</td>\n",
       "      <td>0.882</td>\n",
       "      <td>0.118</td>\n",
       "      <td>0.2500</td>\n",
       "    </tr>\n",
       "    <tr>\n",
       "      <th>3</th>\n",
       "      <td>Facts are immutable Senator even when you re n...</td>\n",
       "      <td>-0.050000</td>\n",
       "      <td>0.550000</td>\n",
       "      <td>0.000</td>\n",
       "      <td>1.000</td>\n",
       "      <td>0.000</td>\n",
       "      <td>0.0000</td>\n",
       "    </tr>\n",
       "    <tr>\n",
       "      <th>4</th>\n",
       "      <td>Explain to me again why we need a vaccine wher...</td>\n",
       "      <td>0.000000</td>\n",
       "      <td>0.000000</td>\n",
       "      <td>0.000</td>\n",
       "      <td>1.000</td>\n",
       "      <td>0.000</td>\n",
       "      <td>0.0000</td>\n",
       "    </tr>\n",
       "    <tr>\n",
       "      <th>...</th>\n",
       "      <td>...</td>\n",
       "      <td>...</td>\n",
       "      <td>...</td>\n",
       "      <td>...</td>\n",
       "      <td>...</td>\n",
       "      <td>...</td>\n",
       "      <td>...</td>\n",
       "    </tr>\n",
       "    <tr>\n",
       "      <th>7656</th>\n",
       "      <td>21 hours status post PfizerBiontech vaccine My...</td>\n",
       "      <td>-0.155556</td>\n",
       "      <td>0.288889</td>\n",
       "      <td>0.191</td>\n",
       "      <td>0.671</td>\n",
       "      <td>0.138</td>\n",
       "      <td>-0.3291</td>\n",
       "    </tr>\n",
       "    <tr>\n",
       "      <th>7657</th>\n",
       "      <td>What a week 2nd dose complete fantastically sm...</td>\n",
       "      <td>0.350000</td>\n",
       "      <td>0.450000</td>\n",
       "      <td>0.122</td>\n",
       "      <td>0.878</td>\n",
       "      <td>0.000</td>\n",
       "      <td>-0.3612</td>\n",
       "    </tr>\n",
       "    <tr>\n",
       "      <th>7658</th>\n",
       "      <td>Please Retweet to encourage others Got my 2nd ...</td>\n",
       "      <td>0.000000</td>\n",
       "      <td>0.000000</td>\n",
       "      <td>0.000</td>\n",
       "      <td>0.570</td>\n",
       "      <td>0.430</td>\n",
       "      <td>0.8074</td>\n",
       "    </tr>\n",
       "    <tr>\n",
       "      <th>7659</th>\n",
       "      <td>Grateful to be fully vaccinated but these side...</td>\n",
       "      <td>0.000000</td>\n",
       "      <td>0.000000</td>\n",
       "      <td>0.257</td>\n",
       "      <td>0.644</td>\n",
       "      <td>0.099</td>\n",
       "      <td>-0.6369</td>\n",
       "    </tr>\n",
       "    <tr>\n",
       "      <th>7660</th>\n",
       "      <td>Sore arm for about 24 hours from about 8 hours...</td>\n",
       "      <td>0.125000</td>\n",
       "      <td>0.229167</td>\n",
       "      <td>0.106</td>\n",
       "      <td>0.894</td>\n",
       "      <td>0.000</td>\n",
       "      <td>-0.3612</td>\n",
       "    </tr>\n",
       "  </tbody>\n",
       "</table>\n",
       "<p>7657 rows × 7 columns</p>\n",
       "</div>"
      ],
      "text/plain": [
       "                                                  tweet  polarity  \\\n",
       "0     Same folks said daikon paste could treat a cyt...  0.000000   \n",
       "1     While the world has been on the wrong side of ... -0.500000   \n",
       "2     coronavirus SputnikV AstraZeneca PfizerBioNTec...  0.000000   \n",
       "3     Facts are immutable Senator even when you re n... -0.050000   \n",
       "4     Explain to me again why we need a vaccine wher...  0.000000   \n",
       "...                                                 ...       ...   \n",
       "7656  21 hours status post PfizerBiontech vaccine My... -0.155556   \n",
       "7657  What a week 2nd dose complete fantastically sm...  0.350000   \n",
       "7658  Please Retweet to encourage others Got my 2nd ...  0.000000   \n",
       "7659  Grateful to be fully vaccinated but these side...  0.000000   \n",
       "7660  Sore arm for about 24 hours from about 8 hours...  0.125000   \n",
       "\n",
       "      subjectivity  vader_neg  vader_neu  vader_pos  vader_compound  \n",
       "0         0.125000      0.000      0.787      0.213          0.4019  \n",
       "1         0.900000      0.125      0.766      0.109         -0.1027  \n",
       "2         0.033333      0.000      0.882      0.118          0.2500  \n",
       "3         0.550000      0.000      1.000      0.000          0.0000  \n",
       "4         0.000000      0.000      1.000      0.000          0.0000  \n",
       "...            ...        ...        ...        ...             ...  \n",
       "7656      0.288889      0.191      0.671      0.138         -0.3291  \n",
       "7657      0.450000      0.122      0.878      0.000         -0.3612  \n",
       "7658      0.000000      0.000      0.570      0.430          0.8074  \n",
       "7659      0.000000      0.257      0.644      0.099         -0.6369  \n",
       "7660      0.229167      0.106      0.894      0.000         -0.3612  \n",
       "\n",
       "[7657 rows x 7 columns]"
      ]
     },
     "execution_count": 2,
     "metadata": {},
     "output_type": "execute_result"
    }
   ],
   "source": [
    "# examine the first 5 rows of X (including the feature names)\n",
    "import pandas as pd\n",
    "df = pd.read_excel(\"data.xls\")\n",
    "li = df[df.isnull().T.any()].index\n",
    "for i in li:\n",
    "    df.drop(index=i,axis = 1,inplace = True)\n",
    "df[df.isnull().T.any()]\n",
    "df"
   ]
  },
  {
   "cell_type": "code",
   "execution_count": 3,
   "metadata": {},
   "outputs": [
    {
     "data": {
      "text/plain": [
       "2       Facts are immutable, Senator, even when you're...\n",
       "3       Explain to me again why we need a vaccine @Bor...\n",
       "4       Does anyone have any useful advice/guidance fo...\n",
       "5       it is a bit sad to claim the fame for success ...\n",
       "6       There have not been many bright days in 2020 b...\n",
       "                              ...                        \n",
       "3101    #PublicHealth #COVID19 #Modernavaccine #Modern...\n",
       "3102    @crashoverrideee #COVID19 Vaccine Update for #...\n",
       "3103    Dr Fun's I Feel Good - My effort at a PSA, ple...\n",
       "3104    @Writer_DG I got dose #2 Friday. Have to admit...\n",
       "3105    Feeling very privileged to have had my first c...\n",
       "Name: text, Length: 247, dtype: object"
      ]
     },
     "execution_count": 3,
     "metadata": {},
     "output_type": "execute_result"
    }
   ],
   "source": [
    "import numpy as np\n",
    "df1 = pd.read_csv('Finished_vaccination_tweets_手动标记.csv',encoding='ISO-8859-1')\n",
    "df1 = df1[(df1['code-attitude'] == '0') | (df1['code-attitude'] == '1') | (df1['code-attitude'] == '-1')]\n",
    "df1['text']"
   ]
  },
  {
   "cell_type": "code",
   "execution_count": 4,
   "metadata": {},
   "outputs": [
    {
     "data": {
      "text/plain": [
       " 1    3461\n",
       " 0    3369\n",
       "-1     827\n",
       "Name: polarity_new, dtype: int64"
      ]
     },
     "execution_count": 4,
     "metadata": {},
     "output_type": "execute_result"
    }
   ],
   "source": [
    "df['polarity_new']=5\n",
    "df.loc[df['polarity']==0,['polarity_new']]=0\n",
    "df.loc[df['polarity']>0,['polarity_new']]=1\n",
    "df.loc[df['polarity']<0,['polarity_new']]=-1\n",
    "df['polarity_new'].value_counts()"
   ]
  },
  {
   "cell_type": "code",
   "execution_count": 5,
   "metadata": {},
   "outputs": [],
   "source": [
    "X = df['tweet']\n",
    "Y = df['polarity_new']"
   ]
  },
  {
   "cell_type": "code",
   "execution_count": 6,
   "metadata": {},
   "outputs": [
    {
     "data": {
      "text/plain": [
       "(6125,)"
      ]
     },
     "execution_count": 6,
     "metadata": {},
     "output_type": "execute_result"
    }
   ],
   "source": [
    "X_train, X_test, y_train, y_test = train_test_split(X, Y, test_size=0.2, random_state=123)\n",
    "X_train.shape"
   ]
  },
  {
   "cell_type": "code",
   "execution_count": 7,
   "metadata": {},
   "outputs": [
    {
     "data": {
      "text/plain": [
       "<1532x200 sparse matrix of type '<class 'numpy.int64'>'\n",
       "\twith 13212 stored elements in Compressed Sparse Row format>"
      ]
     },
     "execution_count": 7,
     "metadata": {},
     "output_type": "execute_result"
    }
   ],
   "source": [
    "num_features = 200\n",
    "vect = CountVectorizer(max_features=num_features)\n",
    "X_train_dtm = vect.fit_transform(X_train)\n",
    "X_test_dtm = vect.transform(X_test)\n",
    "X_test_dtm"
   ]
  },
  {
   "cell_type": "code",
   "execution_count": 8,
   "metadata": {},
   "outputs": [],
   "source": [
    "from sklearn.linear_model import LogisticRegression\n",
    "from sklearn import metrics\n",
    "# instantiate a logistic regression model\n",
    "logreg = LogisticRegression(multi_class='multinomial', solver=\"lbfgs\", C=10, random_state=123)"
   ]
  },
  {
   "cell_type": "code",
   "execution_count": 9,
   "metadata": {},
   "outputs": [
    {
     "name": "stdout",
     "output_type": "stream",
     "text": [
      "CPU times: user 235 ms, sys: 10.3 ms, total: 245 ms\n",
      "Wall time: 258 ms\n"
     ]
    },
    {
     "name": "stderr",
     "output_type": "stream",
     "text": [
      "/Users/linqiaoyi/opt/anaconda3/lib/python3.8/site-packages/sklearn/linear_model/_logistic.py:762: ConvergenceWarning: lbfgs failed to converge (status=1):\n",
      "STOP: TOTAL NO. of ITERATIONS REACHED LIMIT.\n",
      "\n",
      "Increase the number of iterations (max_iter) or scale the data as shown in:\n",
      "    https://scikit-learn.org/stable/modules/preprocessing.html\n",
      "Please also refer to the documentation for alternative solver options:\n",
      "    https://scikit-learn.org/stable/modules/linear_model.html#logistic-regression\n",
      "  n_iter_i = _check_optimize_result(\n"
     ]
    },
    {
     "data": {
      "text/plain": [
       "LogisticRegression(C=10, multi_class='multinomial', random_state=123)"
      ]
     },
     "execution_count": 9,
     "metadata": {},
     "output_type": "execute_result"
    }
   ],
   "source": [
    "%time logreg.fit(X_train_dtm,y_train)"
   ]
  },
  {
   "cell_type": "code",
   "execution_count": 10,
   "metadata": {},
   "outputs": [],
   "source": [
    "import re\n",
    "import string\n",
    "from nltk.corpus import stopwords\n",
    "from nltk.tokenize import word_tokenize\n",
    "def custom_preprocessor(text):\n",
    "    '''\n",
    "    Make text lowercase, remove text in square brackets,remove links,remove special characters\n",
    "    and remove words containing numbers.\n",
    "    '''\n",
    "    text = text.lower()\n",
    "    text = re.sub('@[^\\s]+','',text)\n",
    "    text = re.sub(r'\\B#\\S+','',text)\n",
    "    text = re.sub('\\[.*?\\]', '', text)\n",
    "    text = re.sub(\"\\\\W\",\" \",text) # remove special chars\n",
    "    text = re.sub('https?://\\S+|www\\.\\S+', '', text)\n",
    "    text = re.sub('<.*?>+', '', text)\n",
    "    text = re.sub('[%s]' % re.escape(string.punctuation), '', text)\n",
    "    text = re.sub('\\n', '', text)\n",
    "    text = re.sub('\\w*\\d\\w*', '', text)\n",
    "    words = word_tokenize(text)\n",
    "    words = [i for i in words if i not in stopwords.words()]\n",
    "    text = ' '.join(words)\n",
    "    \n",
    "    return text"
   ]
  },
  {
   "cell_type": "code",
   "execution_count": 12,
   "metadata": {},
   "outputs": [
    {
     "name": "stdout",
     "output_type": "stream",
     "text": [
      "Accuracy:0.4898785425101215\n",
      "Precision:0.4898785425101215\n",
      "Recall:0.4898785425101215\n"
     ]
    }
   ],
   "source": [
    "df1['text'] = pd.DataFrame(df1['text'].astype(str))\n",
    "df1['text_clean']=df1['text'].apply(custom_preprocessor)\n",
    "t = vect.transform(df1['text_clean'])\n",
    "y_test_pred = logreg.predict(t)\n",
    "df1['code-attitude'] = pd.DataFrame(df1['code-attitude'].astype(int))\n",
    "from sklearn.metrics import accuracy_score, precision_score, recall_score\n",
    "print(\"Accuracy:{}\".format(accuracy_score(df1['code-attitude'], y_test_pred)))\n",
    "print(\"Precision:{}\".format(precision_score(df1['code-attitude'], y_test_pred,average='micro')))\n",
    "print(\"Recall:{}\".format(recall_score(df1['code-attitude'], y_test_pred,average='micro')))"
   ]
  },
  {
   "cell_type": "code",
   "execution_count": 13,
   "metadata": {
    "scrolled": true
   },
   "outputs": [
    {
     "data": {
      "text/plain": [
       "1766    video dubai residents queue receive vaccinatio...\n",
       "7267    better half supposed get first pfizerbiontech ...\n",
       "1430    neither pfizerbiontech produced experimental m...\n",
       "3551    uk apart oxfordvaccine moderna pfizerbiontech ...\n",
       "2405                     counted vaccinated first jab sec\n",
       "                              ...                        \n",
       "4063    bmj patients died norway shortly receiving pfi...\n",
       "1346    joe biden receives first dose pfizer covid vac...\n",
       "3457    laboratory tests shown pfizerbiontech vaccine ...\n",
       "7537    hubby fully vaccinated thank science pfizerbio...\n",
       "3585    anyone ireland anywhere else thinking receivin...\n",
       "Name: tweet_clean, Length: 6125, dtype: object"
      ]
     },
     "execution_count": 13,
     "metadata": {},
     "output_type": "execute_result"
    }
   ],
   "source": [
    "df['tweet_clean']=df['tweet'].apply(custom_preprocessor)\n",
    "X = df['tweet_clean']\n",
    "Y = df['polarity_new']\n",
    "X_train, X_test, y_train, y_test = train_test_split(X, Y, test_size=0.2, random_state=123)\n",
    "X_train"
   ]
  },
  {
   "cell_type": "code",
   "execution_count": 14,
   "metadata": {},
   "outputs": [
    {
     "data": {
      "text/plain": [
       "<6125x39898 sparse matrix of type '<class 'numpy.int64'>'\n",
       "\twith 100109 stored elements in Compressed Sparse Row format>"
      ]
     },
     "execution_count": 14,
     "metadata": {},
     "output_type": "execute_result"
    }
   ],
   "source": [
    "vect = CountVectorizer(ngram_range=(1,2))\n",
    "X_train_dtm = vect.fit_transform(X_train)\n",
    "X_test_dtm = vect.transform(X_test)\n",
    "X_train_dtm"
   ]
  },
  {
   "cell_type": "code",
   "execution_count": 15,
   "metadata": {},
   "outputs": [
    {
     "name": "stdout",
     "output_type": "stream",
     "text": [
      "CPU times: user 3.25 s, sys: 66.9 ms, total: 3.32 s\n",
      "Wall time: 1.8 s\n"
     ]
    },
    {
     "name": "stderr",
     "output_type": "stream",
     "text": [
      "/Users/linqiaoyi/opt/anaconda3/lib/python3.8/site-packages/sklearn/linear_model/_logistic.py:762: ConvergenceWarning: lbfgs failed to converge (status=1):\n",
      "STOP: TOTAL NO. of ITERATIONS REACHED LIMIT.\n",
      "\n",
      "Increase the number of iterations (max_iter) or scale the data as shown in:\n",
      "    https://scikit-learn.org/stable/modules/preprocessing.html\n",
      "Please also refer to the documentation for alternative solver options:\n",
      "    https://scikit-learn.org/stable/modules/linear_model.html#logistic-regression\n",
      "  n_iter_i = _check_optimize_result(\n"
     ]
    },
    {
     "data": {
      "text/plain": [
       "LogisticRegression()"
      ]
     },
     "execution_count": 15,
     "metadata": {},
     "output_type": "execute_result"
    }
   ],
   "source": [
    "%%time\n",
    "\n",
    "logreg = LogisticRegression()\n",
    "logreg.fit(X_train_dtm,y_train)\n"
   ]
  },
  {
   "cell_type": "code",
   "execution_count": 18,
   "metadata": {},
   "outputs": [
    {
     "name": "stdout",
     "output_type": "stream",
     "text": [
      "Accuracy:0.8178851174934726\n",
      "Precision:0.8178851174934726\n",
      "Recall:0.8178851174934726\n"
     ]
    }
   ],
   "source": [
    "y_test_pred = logreg.predict(X_test_dtm)\n",
    "print(\"Accuracy:{}\".format(accuracy_score(y_test, y_test_pred)))\n",
    "print(\"Precision:{}\".format(precision_score(y_test, y_test_pred,average='micro')))\n",
    "print(\"Recall:{}\".format(recall_score(y_test, y_test_pred,average='micro')))"
   ]
  },
  {
   "cell_type": "code",
   "execution_count": 19,
   "metadata": {},
   "outputs": [
    {
     "name": "stdout",
     "output_type": "stream",
     "text": [
      "Accuracy:0.5465587044534413\n"
     ]
    }
   ],
   "source": [
    "df1['text'] = pd.DataFrame(df1['text'].astype(str))\n",
    "df1['text_clean']=df1['text'].apply(custom_preprocessor)\n",
    "t = vect.transform(df1['text_clean'])\n",
    "y_test_pred = logreg.predict(t)\n",
    "df1['code-attitude'] = pd.DataFrame(df1['code-attitude'].astype(int))\n",
    "from sklearn.metrics import accuracy_score, precision_score, recall_score\n",
    "print(\"Accuracy:{}\".format(accuracy_score(df1['code-attitude'], y_test_pred)))\n"
   ]
  },
  {
   "cell_type": "code",
   "execution_count": null,
   "metadata": {},
   "outputs": [],
   "source": []
  }
 ],
 "metadata": {
  "kernelspec": {
   "display_name": "Python 3",
   "language": "python",
   "name": "python3"
  },
  "language_info": {
   "codemirror_mode": {
    "name": "ipython",
    "version": 3
   },
   "file_extension": ".py",
   "mimetype": "text/x-python",
   "name": "python",
   "nbconvert_exporter": "python",
   "pygments_lexer": "ipython3",
   "version": "3.8.3"
  }
 },
 "nbformat": 4,
 "nbformat_minor": 4
}
