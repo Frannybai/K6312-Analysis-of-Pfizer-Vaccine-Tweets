{
 "cells": [
  {
   "cell_type": "code",
   "execution_count": 49,
   "metadata": {},
   "outputs": [
    {
     "data": {
      "text/html": [
       "<div>\n",
       "<style scoped>\n",
       "    .dataframe tbody tr th:only-of-type {\n",
       "        vertical-align: middle;\n",
       "    }\n",
       "\n",
       "    .dataframe tbody tr th {\n",
       "        vertical-align: top;\n",
       "    }\n",
       "\n",
       "    .dataframe thead th {\n",
       "        text-align: right;\n",
       "    }\n",
       "</style>\n",
       "<table border=\"1\" class=\"dataframe\">\n",
       "  <thead>\n",
       "    <tr style=\"text-align: right;\">\n",
       "      <th></th>\n",
       "      <th>textID</th>\n",
       "      <th>text</th>\n",
       "      <th>selected_text</th>\n",
       "      <th>sentiment</th>\n",
       "    </tr>\n",
       "  </thead>\n",
       "  <tbody>\n",
       "    <tr>\n",
       "      <th>0</th>\n",
       "      <td>a3d0a7d5ad</td>\n",
       "      <td>Spent the entire morning in a meeting w/ a ven...</td>\n",
       "      <td>my boss was not happy w/ them. Lots of fun.</td>\n",
       "      <td>neutral</td>\n",
       "    </tr>\n",
       "    <tr>\n",
       "      <th>1</th>\n",
       "      <td>251b6a6766</td>\n",
       "      <td>Oh! Good idea about putting them on ice cream</td>\n",
       "      <td>Good</td>\n",
       "      <td>positive</td>\n",
       "    </tr>\n",
       "    <tr>\n",
       "      <th>2</th>\n",
       "      <td>c9e8d1ef1c</td>\n",
       "      <td>says good (or should i say bad?) afternoon!  h...</td>\n",
       "      <td>says good (or should i say bad?) afternoon!</td>\n",
       "      <td>neutral</td>\n",
       "    </tr>\n",
       "    <tr>\n",
       "      <th>3</th>\n",
       "      <td>f14f087215</td>\n",
       "      <td>i dont think you can vote anymore! i tried</td>\n",
       "      <td>i dont think you can vote anymore!</td>\n",
       "      <td>negative</td>\n",
       "    </tr>\n",
       "    <tr>\n",
       "      <th>4</th>\n",
       "      <td>bf7473b12d</td>\n",
       "      <td>haha better drunken tweeting you mean?</td>\n",
       "      <td>better</td>\n",
       "      <td>positive</td>\n",
       "    </tr>\n",
       "    <tr>\n",
       "      <th>...</th>\n",
       "      <td>...</td>\n",
       "      <td>...</td>\n",
       "      <td>...</td>\n",
       "      <td>...</td>\n",
       "    </tr>\n",
       "    <tr>\n",
       "      <th>27481</th>\n",
       "      <td>3dbae74fcd</td>\n",
       "      <td>I want to go to VP, but no one is willing to c...</td>\n",
       "      <td>I want to go to VP, but no one is willing to c...</td>\n",
       "      <td>neutral</td>\n",
       "    </tr>\n",
       "    <tr>\n",
       "      <th>27482</th>\n",
       "      <td>63147b35cb</td>\n",
       "      <td>Wah, why are you sad?</td>\n",
       "      <td>Wah, why are you sad?</td>\n",
       "      <td>neutral</td>\n",
       "    </tr>\n",
       "    <tr>\n",
       "      <th>27483</th>\n",
       "      <td>bdb196a09f</td>\n",
       "      <td>playing sudoku while mommy makes me breakfast ...</td>\n",
       "      <td>playing sudoku while mommy makes me breakfast ...</td>\n",
       "      <td>neutral</td>\n",
       "    </tr>\n",
       "    <tr>\n",
       "      <th>27484</th>\n",
       "      <td>18c2a1e98e</td>\n",
       "      <td>see u bye see u!  i love the hot30</td>\n",
       "      <td>i love</td>\n",
       "      <td>positive</td>\n",
       "    </tr>\n",
       "    <tr>\n",
       "      <th>27485</th>\n",
       "      <td>1c1f3724db</td>\n",
       "      <td>ha ha, and what game is that? i like games</td>\n",
       "      <td>? i like</td>\n",
       "      <td>positive</td>\n",
       "    </tr>\n",
       "  </tbody>\n",
       "</table>\n",
       "<p>27485 rows × 4 columns</p>\n",
       "</div>"
      ],
      "text/plain": [
       "           textID                                               text  \\\n",
       "0      a3d0a7d5ad  Spent the entire morning in a meeting w/ a ven...   \n",
       "1      251b6a6766      Oh! Good idea about putting them on ice cream   \n",
       "2      c9e8d1ef1c  says good (or should i say bad?) afternoon!  h...   \n",
       "3      f14f087215         i dont think you can vote anymore! i tried   \n",
       "4      bf7473b12d             haha better drunken tweeting you mean?   \n",
       "...           ...                                                ...   \n",
       "27481  3dbae74fcd  I want to go to VP, but no one is willing to c...   \n",
       "27482  63147b35cb                              Wah, why are you sad?   \n",
       "27483  bdb196a09f  playing sudoku while mommy makes me breakfast ...   \n",
       "27484  18c2a1e98e                 see u bye see u!  i love the hot30   \n",
       "27485  1c1f3724db         ha ha, and what game is that? i like games   \n",
       "\n",
       "                                           selected_text sentiment  \n",
       "0            my boss was not happy w/ them. Lots of fun.   neutral  \n",
       "1                                                   Good  positive  \n",
       "2            says good (or should i say bad?) afternoon!   neutral  \n",
       "3                     i dont think you can vote anymore!  negative  \n",
       "4                                                 better  positive  \n",
       "...                                                  ...       ...  \n",
       "27481  I want to go to VP, but no one is willing to c...   neutral  \n",
       "27482                              Wah, why are you sad?   neutral  \n",
       "27483  playing sudoku while mommy makes me breakfast ...   neutral  \n",
       "27484                                             i love  positive  \n",
       "27485                                           ? i like  positive  \n",
       "\n",
       "[27485 rows x 4 columns]"
      ]
     },
     "execution_count": 49,
     "metadata": {},
     "output_type": "execute_result"
    }
   ],
   "source": [
    "import pandas as pd\n",
    "df = pd.read_csv('train.csv')\n",
    "li = df[df.isnull().T.any()].index\n",
    "for i in li:\n",
    "    df.drop(index=i,axis = 1,inplace = True)\n",
    "df[df.isnull().T.any()]\n",
    "df"
   ]
  },
  {
   "cell_type": "code",
   "execution_count": 50,
   "metadata": {},
   "outputs": [],
   "source": [
    "import re\n",
    "import string\n",
    "from nltk.corpus import stopwords\n",
    "from nltk.tokenize import word_tokenize\n",
    "from nltk import PorterStemmer\n",
    "from nltk.stem import WordNetLemmatizer\n",
    "\n",
    "def custom_preprocessor(text):\n",
    "    '''\n",
    "    Make text lowercase, remove text in square brackets,remove links,remove special characters\n",
    "    and remove words containing numbers.\n",
    "    '''\n",
    "    text = text.lower()\n",
    "    text = re.sub('\\[.*?\\]', '', text)\n",
    "    text = re.sub(\"\\\\W\",\" \",text) # remove special chars\n",
    "    text = re.sub('https?://\\S+|www\\.\\S+', '', text)\n",
    "    text = re.sub('<.*?>+', '', text)\n",
    "    text = re.sub('[%s]' % re.escape(string.punctuation), '', text)\n",
    "    text = re.sub('\\n', '', text)\n",
    "    text = re.sub('\\w*\\d\\w*', '', text)\n",
    "#     words = word_tokenize(text)\n",
    "#     stemmer = PorterStemmer()\n",
    "#     wnl = WordNetLemmatizer()\n",
    "#     words = [wnl.lemmatize(i) for i in words if i not in stopwords.words()]\n",
    "#     text = ' '.join(words)\n",
    "    \n",
    "    return text"
   ]
  },
  {
   "cell_type": "code",
   "execution_count": 51,
   "metadata": {},
   "outputs": [
    {
     "data": {
      "text/plain": [
       " 0    11117\n",
       " 1     8582\n",
       "-1     7786\n",
       "Name: polarity_new, dtype: int64"
      ]
     },
     "execution_count": 51,
     "metadata": {},
     "output_type": "execute_result"
    }
   ],
   "source": [
    "df['polarity_new']=0\n",
    "df.loc[df['sentiment']=='negative',['polarity_new']]=-1\n",
    "df.loc[df['sentiment']=='neutral',['polarity_new']]=0\n",
    "df.loc[df['sentiment']=='positive',['polarity_new']]=1\n",
    "df['polarity_new'].value_counts()"
   ]
  },
  {
   "cell_type": "code",
   "execution_count": 52,
   "metadata": {},
   "outputs": [],
   "source": [
    "df['text_clean']=df['selected_text'].apply(custom_preprocessor)"
   ]
  },
  {
   "cell_type": "code",
   "execution_count": 18,
   "metadata": {},
   "outputs": [],
   "source": [
    "df.to_csv('text_clean.csv',index=False)"
   ]
  },
  {
   "cell_type": "code",
   "execution_count": 1,
   "metadata": {},
   "outputs": [
    {
     "data": {
      "text/html": [
       "<div>\n",
       "<style scoped>\n",
       "    .dataframe tbody tr th:only-of-type {\n",
       "        vertical-align: middle;\n",
       "    }\n",
       "\n",
       "    .dataframe tbody tr th {\n",
       "        vertical-align: top;\n",
       "    }\n",
       "\n",
       "    .dataframe thead th {\n",
       "        text-align: right;\n",
       "    }\n",
       "</style>\n",
       "<table border=\"1\" class=\"dataframe\">\n",
       "  <thead>\n",
       "    <tr style=\"text-align: right;\">\n",
       "      <th></th>\n",
       "      <th>textID</th>\n",
       "      <th>text</th>\n",
       "      <th>selected_text</th>\n",
       "      <th>sentiment</th>\n",
       "      <th>polarity_new</th>\n",
       "      <th>text_clean</th>\n",
       "    </tr>\n",
       "  </thead>\n",
       "  <tbody>\n",
       "    <tr>\n",
       "      <th>0</th>\n",
       "      <td>a3d0a7d5ad</td>\n",
       "      <td>Spent the entire morning in a meeting w/ a ven...</td>\n",
       "      <td>my boss was not happy w/ them. Lots of fun.</td>\n",
       "      <td>neutral</td>\n",
       "      <td>0</td>\n",
       "      <td>bos happy w lot fun</td>\n",
       "    </tr>\n",
       "    <tr>\n",
       "      <th>1</th>\n",
       "      <td>251b6a6766</td>\n",
       "      <td>Oh! Good idea about putting them on ice cream</td>\n",
       "      <td>Good</td>\n",
       "      <td>positive</td>\n",
       "      <td>1</td>\n",
       "      <td>good</td>\n",
       "    </tr>\n",
       "    <tr>\n",
       "      <th>2</th>\n",
       "      <td>c9e8d1ef1c</td>\n",
       "      <td>says good (or should i say bad?) afternoon!  h...</td>\n",
       "      <td>says good (or should i say bad?) afternoon!</td>\n",
       "      <td>neutral</td>\n",
       "      <td>0</td>\n",
       "      <td>say good say bad afternoon</td>\n",
       "    </tr>\n",
       "    <tr>\n",
       "      <th>3</th>\n",
       "      <td>f14f087215</td>\n",
       "      <td>i dont think you can vote anymore! i tried</td>\n",
       "      <td>i dont think you can vote anymore!</td>\n",
       "      <td>negative</td>\n",
       "      <td>-1</td>\n",
       "      <td>dont think vote anymore</td>\n",
       "    </tr>\n",
       "    <tr>\n",
       "      <th>4</th>\n",
       "      <td>bf7473b12d</td>\n",
       "      <td>haha better drunken tweeting you mean?</td>\n",
       "      <td>better</td>\n",
       "      <td>positive</td>\n",
       "      <td>1</td>\n",
       "      <td>better</td>\n",
       "    </tr>\n",
       "    <tr>\n",
       "      <th>...</th>\n",
       "      <td>...</td>\n",
       "      <td>...</td>\n",
       "      <td>...</td>\n",
       "      <td>...</td>\n",
       "      <td>...</td>\n",
       "      <td>...</td>\n",
       "    </tr>\n",
       "    <tr>\n",
       "      <th>27480</th>\n",
       "      <td>3dbae74fcd</td>\n",
       "      <td>I want to go to VP, but no one is willing to c...</td>\n",
       "      <td>I want to go to VP, but no one is willing to c...</td>\n",
       "      <td>neutral</td>\n",
       "      <td>0</td>\n",
       "      <td>go vp willing</td>\n",
       "    </tr>\n",
       "    <tr>\n",
       "      <th>27481</th>\n",
       "      <td>63147b35cb</td>\n",
       "      <td>Wah, why are you sad?</td>\n",
       "      <td>Wah, why are you sad?</td>\n",
       "      <td>neutral</td>\n",
       "      <td>0</td>\n",
       "      <td>sad</td>\n",
       "    </tr>\n",
       "    <tr>\n",
       "      <th>27482</th>\n",
       "      <td>bdb196a09f</td>\n",
       "      <td>playing sudoku while mommy makes me breakfast ...</td>\n",
       "      <td>playing sudoku while mommy makes me breakfast ...</td>\n",
       "      <td>neutral</td>\n",
       "      <td>0</td>\n",
       "      <td>playing sudoku mommy make breakfast amp lun</td>\n",
       "    </tr>\n",
       "    <tr>\n",
       "      <th>27483</th>\n",
       "      <td>18c2a1e98e</td>\n",
       "      <td>see u bye see u!  i love the hot30</td>\n",
       "      <td>i love</td>\n",
       "      <td>positive</td>\n",
       "      <td>1</td>\n",
       "      <td>love</td>\n",
       "    </tr>\n",
       "    <tr>\n",
       "      <th>27484</th>\n",
       "      <td>1c1f3724db</td>\n",
       "      <td>ha ha, and what game is that? i like games</td>\n",
       "      <td>? i like</td>\n",
       "      <td>positive</td>\n",
       "      <td>1</td>\n",
       "      <td>like</td>\n",
       "    </tr>\n",
       "  </tbody>\n",
       "</table>\n",
       "<p>27485 rows × 6 columns</p>\n",
       "</div>"
      ],
      "text/plain": [
       "           textID                                               text  \\\n",
       "0      a3d0a7d5ad  Spent the entire morning in a meeting w/ a ven...   \n",
       "1      251b6a6766      Oh! Good idea about putting them on ice cream   \n",
       "2      c9e8d1ef1c  says good (or should i say bad?) afternoon!  h...   \n",
       "3      f14f087215         i dont think you can vote anymore! i tried   \n",
       "4      bf7473b12d             haha better drunken tweeting you mean?   \n",
       "...           ...                                                ...   \n",
       "27480  3dbae74fcd  I want to go to VP, but no one is willing to c...   \n",
       "27481  63147b35cb                              Wah, why are you sad?   \n",
       "27482  bdb196a09f  playing sudoku while mommy makes me breakfast ...   \n",
       "27483  18c2a1e98e                 see u bye see u!  i love the hot30   \n",
       "27484  1c1f3724db         ha ha, and what game is that? i like games   \n",
       "\n",
       "                                           selected_text sentiment  \\\n",
       "0            my boss was not happy w/ them. Lots of fun.   neutral   \n",
       "1                                                   Good  positive   \n",
       "2            says good (or should i say bad?) afternoon!   neutral   \n",
       "3                     i dont think you can vote anymore!  negative   \n",
       "4                                                 better  positive   \n",
       "...                                                  ...       ...   \n",
       "27480  I want to go to VP, but no one is willing to c...   neutral   \n",
       "27481                              Wah, why are you sad?   neutral   \n",
       "27482  playing sudoku while mommy makes me breakfast ...   neutral   \n",
       "27483                                             i love  positive   \n",
       "27484                                           ? i like  positive   \n",
       "\n",
       "       polarity_new                                   text_clean  \n",
       "0                 0                          bos happy w lot fun  \n",
       "1                 1                                         good  \n",
       "2                 0                   say good say bad afternoon  \n",
       "3                -1                      dont think vote anymore  \n",
       "4                 1                                       better  \n",
       "...             ...                                          ...  \n",
       "27480             0                                go vp willing  \n",
       "27481             0                                          sad  \n",
       "27482             0  playing sudoku mommy make breakfast amp lun  \n",
       "27483             1                                         love  \n",
       "27484             1                                         like  \n",
       "\n",
       "[27485 rows x 6 columns]"
      ]
     },
     "execution_count": 1,
     "metadata": {},
     "output_type": "execute_result"
    }
   ],
   "source": [
    "import pandas as pd\n",
    "df = pd.read_csv('text_clean.csv')\n",
    "df"
   ]
  },
  {
   "cell_type": "code",
   "execution_count": null,
   "metadata": {},
   "outputs": [],
   "source": [
    "df1 = "
   ]
  },
  {
   "cell_type": "code",
   "execution_count": 65,
   "metadata": {},
   "outputs": [],
   "source": [
    "from sklearn.feature_extraction.text import CountVectorizer\n",
    "from sklearn.model_selection import train_test_split\n",
    "import numpy as np"
   ]
  },
  {
   "cell_type": "code",
   "execution_count": 66,
   "metadata": {},
   "outputs": [
    {
     "data": {
      "text/plain": [
       "(19239,)"
      ]
     },
     "execution_count": 66,
     "metadata": {},
     "output_type": "execute_result"
    }
   ],
   "source": [
    "X = df['text_clean']\n",
    "Y = df['polarity_new']\n",
    "X_train, X_test, y_train, y_test = train_test_split(X, Y, test_size=0.3, random_state=123)\n",
    "X_train.shape"
   ]
  },
  {
   "cell_type": "code",
   "execution_count": 67,
   "metadata": {},
   "outputs": [
    {
     "data": {
      "text/plain": [
       "<8246x2000 sparse matrix of type '<class 'numpy.float64'>'\n",
       "\twith 24762 stored elements in Compressed Sparse Row format>"
      ]
     },
     "execution_count": 67,
     "metadata": {},
     "output_type": "execute_result"
    }
   ],
   "source": [
    "from sklearn.feature_extraction.text import TfidfTransformer \n",
    "vect = CountVectorizer(ngram_range=(1,2),max_features=2000)\n",
    "transformer = TfidfTransformer()\n",
    "X_train_dtm = vect.fit_transform(X_train.astype('U'))\n",
    "X_train_dtm = transformer.fit_transform(X_train_dtm)\n",
    "X_test_dtm = vect.transform(X_test.astype('U'))\n",
    "X_test_dtm = transformer.transform(X_test_dtm)\n",
    "X_test_dtm"
   ]
  },
  {
   "cell_type": "markdown",
   "metadata": {},
   "source": [
    "## 逻辑回归"
   ]
  },
  {
   "cell_type": "code",
   "execution_count": 68,
   "metadata": {},
   "outputs": [],
   "source": [
    "from sklearn.linear_model import LogisticRegression\n",
    "from sklearn import metrics\n",
    "# instantiate a logistic regression model\n",
    "logreg = LogisticRegression(multi_class='multinomial', solver=\"lbfgs\", C=10, random_state=123)"
   ]
  },
  {
   "cell_type": "code",
   "execution_count": 69,
   "metadata": {},
   "outputs": [
    {
     "name": "stdout",
     "output_type": "stream",
     "text": [
      "CPU times: user 1.1 s, sys: 17.4 ms, total: 1.12 s\n",
      "Wall time: 584 ms\n"
     ]
    },
    {
     "name": "stderr",
     "output_type": "stream",
     "text": [
      "/Users/linqiaoyi/opt/anaconda3/lib/python3.8/site-packages/sklearn/linear_model/_logistic.py:762: ConvergenceWarning: lbfgs failed to converge (status=1):\n",
      "STOP: TOTAL NO. of ITERATIONS REACHED LIMIT.\n",
      "\n",
      "Increase the number of iterations (max_iter) or scale the data as shown in:\n",
      "    https://scikit-learn.org/stable/modules/preprocessing.html\n",
      "Please also refer to the documentation for alternative solver options:\n",
      "    https://scikit-learn.org/stable/modules/linear_model.html#logistic-regression\n",
      "  n_iter_i = _check_optimize_result(\n"
     ]
    },
    {
     "data": {
      "text/plain": [
       "LogisticRegression(C=10, multi_class='multinomial', random_state=123)"
      ]
     },
     "execution_count": 69,
     "metadata": {},
     "output_type": "execute_result"
    }
   ],
   "source": [
    "%time logreg.fit(X_train_dtm,y_train)"
   ]
  },
  {
   "cell_type": "code",
   "execution_count": 70,
   "metadata": {},
   "outputs": [
    {
     "name": "stdout",
     "output_type": "stream",
     "text": [
      "Accuracy:0.7838952219257822\n",
      "Precision:0.7838952219257822\n",
      "Recall:0.7838952219257822\n",
      "              precision    recall  f1-score   support\n",
      "\n",
      "          -1       0.71      0.78      0.75      2378\n",
      "           0       0.80      0.80      0.80      3314\n",
      "           1       0.84      0.76      0.80      2554\n",
      "\n",
      "    accuracy                           0.78      8246\n",
      "   macro avg       0.78      0.78      0.78      8246\n",
      "weighted avg       0.79      0.78      0.78      8246\n",
      "\n"
     ]
    }
   ],
   "source": [
    "from sklearn.metrics import classification_report\n",
    "y_test_pred = logreg.predict(X_test_dtm)\n",
    "from sklearn.metrics import accuracy_score, precision_score, recall_score\n",
    "print(\"Accuracy:{}\".format(accuracy_score(y_test, y_test_pred)))\n",
    "print(\"Precision:{}\".format(precision_score(y_test, y_test_pred,average='micro')))\n",
    "print(\"Recall:{}\".format(recall_score(y_test, y_test_pred,average='micro')))\n",
    "print(classification_report(y_test,y_test_pred))"
   ]
  },
  {
   "cell_type": "code",
   "execution_count": 71,
   "metadata": {},
   "outputs": [
    {
     "data": {
      "text/plain": [
       "2       Facts are immutable, Senator, even when you're...\n",
       "3       Explain to me again why we need a vaccine @Bor...\n",
       "4       Does anyone have any useful advice/guidance fo...\n",
       "5       it is a bit sad to claim the fame for success ...\n",
       "6       There have not been many bright days in 2020 b...\n",
       "                              ...                        \n",
       "3101    #PublicHealth #COVID19 #Modernavaccine #Modern...\n",
       "3102    @crashoverrideee #COVID19 Vaccine Update for #...\n",
       "3103    Dr Fun's I Feel Good - My effort at a PSA, ple...\n",
       "3104    @Writer_DG I got dose #2 Friday. Have to admit...\n",
       "3105    Feeling very privileged to have had my first c...\n",
       "Name: text, Length: 247, dtype: object"
      ]
     },
     "execution_count": 71,
     "metadata": {},
     "output_type": "execute_result"
    }
   ],
   "source": [
    "import numpy as np\n",
    "df1 = pd.read_csv('Finished_vaccination_tweets_手动标记.csv',encoding='ISO-8859-1', error_bad_lines=False)\n",
    "df1 = df1[(df1['code-attitude'] == '0') | (df1['code-attitude'] == '1') | (df1['code-attitude'] == '-1')]\n",
    "df1['text']"
   ]
  },
  {
   "cell_type": "code",
   "execution_count": 72,
   "metadata": {},
   "outputs": [
    {
     "name": "stdout",
     "output_type": "stream",
     "text": [
      "Accuracy:0.4817813765182186\n",
      "              precision    recall  f1-score   support\n",
      "\n",
      "          -1       0.44      0.12      0.19        58\n",
      "           0       0.49      0.74      0.59       113\n",
      "           1       0.46      0.37      0.41        76\n",
      "\n",
      "    accuracy                           0.48       247\n",
      "   macro avg       0.46      0.41      0.40       247\n",
      "weighted avg       0.47      0.48      0.44       247\n",
      "\n"
     ]
    }
   ],
   "source": [
    "df1['text'] = pd.DataFrame(df1['text'].astype(str))\n",
    "df1['text_clean']=df1['text'].apply(custom_preprocessor)\n",
    "t = vect.transform(df1['text'])\n",
    "y_test_pred = logreg.predict(t)\n",
    "df1['code-attitude'] = pd.DataFrame(df1['code-attitude'].astype(int))\n",
    "from sklearn.metrics import accuracy_score, precision_score, recall_score\n",
    "print(\"Accuracy:{}\".format(accuracy_score(df1['code-attitude'], y_test_pred)))\n",
    "print(classification_report(df1['code-attitude'],y_test_pred))"
   ]
  },
  {
   "cell_type": "markdown",
   "metadata": {},
   "source": [
    "## 决策树"
   ]
  },
  {
   "cell_type": "code",
   "execution_count": 73,
   "metadata": {},
   "outputs": [
    {
     "name": "stdout",
     "output_type": "stream",
     "text": [
      "Accuracy:0.5323793354353626\n",
      "Precision:0.5323793354353626\n",
      "Recall:0.5323793354353626\n",
      "              precision    recall  f1-score   support\n",
      "\n",
      "          -1       0.93      0.12      0.21      2378\n",
      "           0       0.47      0.98      0.63      3314\n",
      "           1       0.89      0.34      0.49      2554\n",
      "\n",
      "    accuracy                           0.53      8246\n",
      "   macro avg       0.76      0.48      0.44      8246\n",
      "weighted avg       0.73      0.53      0.47      8246\n",
      "\n"
     ]
    }
   ],
   "source": [
    "from sklearn.tree import DecisionTreeClassifier\n",
    "clf = DecisionTreeClassifier(criterion = 'entropy', max_depth = 10)\n",
    "clf.fit(X_train_dtm,y_train)\n",
    "from sklearn.metrics import classification_report\n",
    "y_test_pred = clf.predict(X_test_dtm)\n",
    "from sklearn.metrics import accuracy_score, precision_score, recall_score\n",
    "print(\"Accuracy:{}\".format(accuracy_score(y_test, y_test_pred)))\n",
    "print(\"Precision:{}\".format(precision_score(y_test, y_test_pred,average='micro')))\n",
    "print(\"Recall:{}\".format(recall_score(y_test, y_test_pred,average='micro')))\n",
    "print(classification_report(y_test,y_test_pred))"
   ]
  },
  {
   "cell_type": "markdown",
   "metadata": {},
   "source": [
    "## 随机森林"
   ]
  },
  {
   "cell_type": "code",
   "execution_count": 74,
   "metadata": {},
   "outputs": [
    {
     "name": "stdout",
     "output_type": "stream",
     "text": [
      "Accuracy:0.7752849866601988\n",
      "Precision:0.7752849866601988\n",
      "Recall:0.7752849866601988\n",
      "              precision    recall  f1-score   support\n",
      "\n",
      "          -1       0.72      0.75      0.73      2378\n",
      "           0       0.77      0.82      0.79      3314\n",
      "           1       0.85      0.73      0.79      2554\n",
      "\n",
      "    accuracy                           0.78      8246\n",
      "   macro avg       0.78      0.77      0.77      8246\n",
      "weighted avg       0.78      0.78      0.78      8246\n",
      "\n"
     ]
    }
   ],
   "source": [
    "from sklearn.ensemble import RandomForestClassifier\n",
    "rf = RandomForestClassifier(random_state=0, n_estimators=300)\n",
    "rf.fit(X_train_dtm, y_train)\n",
    "from sklearn.metrics import classification_report\n",
    "y_test_pred = rf.predict(X_test_dtm)\n",
    "from sklearn.metrics import accuracy_score, precision_score, recall_score\n",
    "print(\"Accuracy:{}\".format(accuracy_score(y_test, y_test_pred)))\n",
    "print(\"Precision:{}\".format(precision_score(y_test, y_test_pred,average='micro')))\n",
    "print(\"Recall:{}\".format(recall_score(y_test, y_test_pred,average='micro')))\n",
    "print(classification_report(y_test,y_test_pred))"
   ]
  },
  {
   "cell_type": "code",
   "execution_count": 75,
   "metadata": {},
   "outputs": [
    {
     "name": "stdout",
     "output_type": "stream",
     "text": [
      "logistic regression Accuracy:0.4817813765182186\n",
      "decision tree Accuracy:0.5263157894736842\n",
      "random forest Accuracy:0.4979757085020243\n",
      "              precision    recall  f1-score   support\n",
      "\n",
      "          -1       0.44      0.12      0.19        58\n",
      "           0       0.49      0.74      0.59       113\n",
      "           1       0.46      0.37      0.41        76\n",
      "\n",
      "    accuracy                           0.48       247\n",
      "   macro avg       0.46      0.41      0.40       247\n",
      "weighted avg       0.47      0.48      0.44       247\n",
      "\n",
      "              precision    recall  f1-score   support\n",
      "\n",
      "          -1       0.50      0.02      0.03        58\n",
      "           0       0.50      0.98      0.66       113\n",
      "           1       0.86      0.24      0.37        76\n",
      "\n",
      "    accuracy                           0.53       247\n",
      "   macro avg       0.62      0.41      0.35       247\n",
      "weighted avg       0.61      0.53      0.42       247\n",
      "\n",
      "              precision    recall  f1-score   support\n",
      "\n",
      "          -1       0.35      0.33      0.34        58\n",
      "           0       0.55      0.58      0.56       113\n",
      "           1       0.54      0.50      0.52        76\n",
      "\n",
      "    accuracy                           0.50       247\n",
      "   macro avg       0.48      0.47      0.47       247\n",
      "weighted avg       0.50      0.50      0.50       247\n",
      "\n"
     ]
    }
   ],
   "source": [
    "df1['text'] = pd.DataFrame(df1['text'].astype(str))\n",
    "df1['text_clean']=df1['text'].apply(custom_preprocessor)\n",
    "t = vect.transform(df1['text'])\n",
    "y_test_pred_logreg = logreg.predict(t)\n",
    "y_test_pred_clf = clf.predict(t)\n",
    "y_test_pred_rf = rf.predict(t)\n",
    "df1['code-attitude'] = pd.DataFrame(df1['code-attitude'].astype(int))\n",
    "\n",
    "print(\"logistic regression Accuracy:{}\".format(accuracy_score(df1['code-attitude'], y_test_pred_logreg)))\n",
    "print(\"decision tree Accuracy:{}\".format(accuracy_score(df1['code-attitude'], y_test_pred_clf)))\n",
    "print(\"random forest Accuracy:{}\".format(accuracy_score(df1['code-attitude'], y_test_pred_rf)))\n",
    "print(classification_report(df1['code-attitude'],y_test_pred_logreg))\n",
    "print(classification_report(df1['code-attitude'],y_test_pred_clf))\n",
    "print(classification_report(df1['code-attitude'],y_test_pred_rf))"
   ]
  },
  {
   "cell_type": "code",
   "execution_count": null,
   "metadata": {},
   "outputs": [],
   "source": []
  }
 ],
 "metadata": {
  "kernelspec": {
   "display_name": "Python 3",
   "language": "python",
   "name": "python3"
  },
  "language_info": {
   "codemirror_mode": {
    "name": "ipython",
    "version": 3
   },
   "file_extension": ".py",
   "mimetype": "text/x-python",
   "name": "python",
   "nbconvert_exporter": "python",
   "pygments_lexer": "ipython3",
   "version": "3.8.3"
  }
 },
 "nbformat": 4,
 "nbformat_minor": 4
}
